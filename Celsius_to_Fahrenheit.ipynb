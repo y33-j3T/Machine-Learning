{
  "nbformat": 4,
  "nbformat_minor": 0,
  "metadata": {
    "colab": {
      "name": "Celsius to Fahrenheit.ipynb",
      "version": "0.3.2",
      "provenance": [],
      "collapsed_sections": [],
      "include_colab_link": true
    },
    "kernelspec": {
      "name": "python3",
      "display_name": "Python 3"
    }
  },
  "cells": [
    {
      "cell_type": "markdown",
      "metadata": {
        "id": "view-in-github",
        "colab_type": "text"
      },
      "source": [
        "<a href=\"https://colab.research.google.com/github/y33-j3T/TensorFlow/blob/master/Celsius_to_Fahrenheit.ipynb\" target=\"_parent\"><img src=\"https://colab.research.google.com/assets/colab-badge.svg\" alt=\"Open In Colab\"/></a>"
      ]
    },
    {
      "metadata": {
        "id": "J97Iyuagu8QY",
        "colab_type": "text"
      },
      "cell_type": "markdown",
      "source": [
        "# Celsius to Fahrenheit\n",
        "The problem we will solve is to convert from Celsius to Fahrenheit, where the approximate formula is:\n",
        "\n",
        "$$ f = c \\times 1.8 + 32 $$\n",
        "\n",
        "Instead of using a conventional Python function that directly performs this calculation, we will be using machine learning.\n",
        "\n",
        "We will give TensorFlow some sample Celsius values and their corresponding Fahrenheit values.\n",
        "\n",
        "Then, we will train a model that figures out the above formula through the training process.\n",
        "\n"
      ]
    },
    {
      "metadata": {
        "id": "X2ShGGonwNRj",
        "colab_type": "text"
      },
      "cell_type": "markdown",
      "source": [
        "## Import dependencies\n"
      ]
    },
    {
      "metadata": {
        "id": "bGWeK2oiwZaN",
        "colab_type": "code",
        "colab": {}
      },
      "cell_type": "code",
      "source": [
        "from __future__ import absolute_import, division, print_function\n",
        "\n",
        "import tensorflow as tf\n",
        "tf.logging.set_verbosity(tf.logging.ERROR)\n",
        "\n",
        "import numpy as np"
      ],
      "execution_count": 0,
      "outputs": []
    },
    {
      "metadata": {
        "id": "5uBOxLxdwkhI",
        "colab_type": "text"
      },
      "cell_type": "markdown",
      "source": [
        "## Set up training data\n",
        "We will create two lists, `celsius` and `fahrenheit` to train our model.\n",
        "\n",
        "### Some machine learning terminology\n",
        "- **Feature** -- The input(s) to our model. In this case, a single value -- the degrees in Celsius.\n",
        "\n",
        "- **Labels** -- The output our model predicts. In this case, a single value -- the degrees in Fahrenheit.\n",
        "\n",
        "- **Example** -- A pair of inputs/outputs used during training. In this case a pair of values from `celsius` and `fahrenheit` at a specific index."
      ]
    },
    {
      "metadata": {
        "id": "YgZOtrAZxdM3",
        "colab_type": "code",
        "colab": {
          "base_uri": "https://localhost:8080/",
          "height": 134
        },
        "outputId": "c8658a3f-619a-4f3d-8e1b-b093647f483f"
      },
      "cell_type": "code",
      "source": [
        "celsius    = np.array([-40, -10,  0,  8, 15, 22,  38], dtype=float)\n",
        "fahrenheit = np.array([-40,  14, 32, 46, 59, 72, 100], dtype=float)\n",
        "\n",
        "for i,c in enumerate(celsius):\n",
        "  print(\"{} degrees Celsius = {} degrees Fahrenheit\".format(c, fahrenheit[i]))"
      ],
      "execution_count": 35,
      "outputs": [
        {
          "output_type": "stream",
          "text": [
            "-40.0 degrees Celsius = -40.0 degrees Fahrenheit\n",
            "-10.0 degrees Celsius = 14.0 degrees Fahrenheit\n",
            "0.0 degrees Celsius = 32.0 degrees Fahrenheit\n",
            "8.0 degrees Celsius = 46.0 degrees Fahrenheit\n",
            "15.0 degrees Celsius = 59.0 degrees Fahrenheit\n",
            "22.0 degrees Celsius = 72.0 degrees Fahrenheit\n",
            "38.0 degrees Celsius = 100.0 degrees Fahrenheit\n"
          ],
          "name": "stdout"
        }
      ]
    },
    {
      "metadata": {
        "id": "esvA8zKpyQm6",
        "colab_type": "text"
      },
      "cell_type": "markdown",
      "source": [
        "## Create the model\n",
        "Next we create the model. We will use the simplest possible model we can, a Dense network, Since the problem is straightforward, this network will require only a single layer, with a single neuron.\n",
        "\n",
        "### Build a layer\n",
        "We'll call the layer `l0` and create it by instantiating `tf.keras.layers.Dense` with the following configuration:\n",
        "\n",
        "- `input_shape=[1]` -- This specifies that the input to this layer is a single value. That is, the shape is a 1d-array  with one member. \n",
        "\n",
        "- `units=1` -- This specifies the number of neurons in the layer. The number of neurons defines how many internal variables the layer has to try to learn how to solve the problem."
      ]
    },
    {
      "metadata": {
        "id": "LkjeujW0z-Xa",
        "colab_type": "code",
        "colab": {}
      },
      "cell_type": "code",
      "source": [
        "l0 = tf.keras.layers.Dense(units=1, input_shape=[1])"
      ],
      "execution_count": 0,
      "outputs": []
    },
    {
      "metadata": {
        "id": "tf0PBJ_60DB4",
        "colab_type": "text"
      },
      "cell_type": "markdown",
      "source": [
        "### Assemble layers into the model\n",
        "Once layers are defined, they need to be assembled into a model. The Sequential model definition takes a list of layers as argument, specifying the calculation order from the input to the output."
      ]
    },
    {
      "metadata": {
        "id": "4hZcxLIX0aro",
        "colab_type": "code",
        "colab": {}
      },
      "cell_type": "code",
      "source": [
        "model = tf.keras.Sequential([l0])"
      ],
      "execution_count": 0,
      "outputs": []
    },
    {
      "metadata": {
        "id": "PpTA9a-70fa8",
        "colab_type": "text"
      },
      "cell_type": "markdown",
      "source": [
        "### Compile the model, with loss and optimizer functions \n",
        "- **Loss function** -- A measure of how far off predictions are from the desired outcome.\n",
        "\n",
        "- **Optimizer function** -- A way of adjusting internal values in order to reduce the loss."
      ]
    },
    {
      "metadata": {
        "id": "EZkH2eN40mKR",
        "colab_type": "code",
        "colab": {}
      },
      "cell_type": "code",
      "source": [
        "model.compile(loss='mean_squared_error',\n",
        "              optimizer=tf.keras.optimizers.Adam(0,1))"
      ],
      "execution_count": 0,
      "outputs": []
    },
    {
      "metadata": {
        "id": "OObgLyS61At0",
        "colab_type": "text"
      },
      "cell_type": "markdown",
      "source": [
        "## Train the model\n",
        "During training,\n",
        "\n",
        "1. The model takes in Celsius values.\n",
        "2. Performs calculations using current weights\n",
        "3. Output values\n",
        "4. Calculates difference between actual and desired output using the loss function\n",
        "5. Directs how weights should be adjusted using the optimizer function"
      ]
    },
    {
      "metadata": {
        "id": "PeN_rPWS2caR",
        "colab_type": "code",
        "colab": {
          "base_uri": "https://localhost:8080/",
          "height": 34
        },
        "outputId": "d0213dda-8008-4057-b294-da8c0cff569d"
      },
      "cell_type": "code",
      "source": [
        "history = model.fit(celsius, fahrenheit, epochs=500, verbose=False)\n",
        "print(\"Finished training the model\")"
      ],
      "execution_count": 39,
      "outputs": [
        {
          "output_type": "stream",
          "text": [
            "Finished training the model\n"
          ],
          "name": "stdout"
        }
      ]
    },
    {
      "metadata": {
        "id": "3ZjKWrHt2r2A",
        "colab_type": "text"
      },
      "cell_type": "markdown",
      "source": [
        "## Display training statistics\n",
        "The `fit` method returns a history object. We can use this object to plot how the loss of our model goes down after each training epoch."
      ]
    },
    {
      "metadata": {
        "id": "A9Bknj5Q3G7C",
        "colab_type": "code",
        "colab": {
          "base_uri": "https://localhost:8080/",
          "height": 378
        },
        "outputId": "2b5bd81f-e4e1-44d7-a138-cefed613ff19"
      },
      "cell_type": "code",
      "source": [
        "import matplotlib.pyplot as plt\n",
        "plt.xlabel(\"Epoch Number\")\n",
        "plt.ylabel(\"Loss Magnitude\")\n",
        "plt.plot(history.history['loss'])"
      ],
      "execution_count": 40,
      "outputs": [
        {
          "output_type": "execute_result",
          "data": {
            "text/plain": [
              "[<matplotlib.lines.Line2D at 0x7f6571437160>]"
            ]
          },
          "metadata": {
            "tags": []
          },
          "execution_count": 40
        },
        {
          "output_type": "display_data",
          "data": {
            "image/png": "[encoded data removed]",
            "text/plain": [
              "<Figure size 576x396 with 1 Axes>"
            ]
          },
          "metadata": {
            "tags": []
          }
        }
      ]
    },
    {
      "metadata": {
        "id": "04MioYOP3T7U",
        "colab_type": "text"
      },
      "cell_type": "markdown",
      "source": [
        "## Use model to predict values"
      ]
    },
    {
      "metadata": {
        "id": "rb9bYEdq4UUB",
        "colab_type": "code",
        "colab": {
          "base_uri": "https://localhost:8080/",
          "height": 34
        },
        "outputId": "06c755da-7784-4cac-fbc8-92a84092a345"
      },
      "cell_type": "code",
      "source": [
        "print(model.predict([100.0]))"
      ],
      "execution_count": 41,
      "outputs": [
        {
          "output_type": "stream",
          "text": [
            "[[nan]]\n"
          ],
          "name": "stdout"
        }
      ]
    },
    {
      "metadata": {
        "id": "DFCbLzqs4XtA",
        "colab_type": "text"
      },
      "cell_type": "markdown",
      "source": [
        "## Looking at the layer weights"
      ]
    },
    {
      "metadata": {
        "id": "xyJgZpIr5MoO",
        "colab_type": "code",
        "colab": {
          "base_uri": "https://localhost:8080/",
          "height": 54
        },
        "outputId": "05166e60-0b55-4896-aa8e-1c5101170b9a"
      },
      "cell_type": "code",
      "source": [
        "print(\"These are the layer weights: {}\".format(l0.get_weights()))"
      ],
      "execution_count": 30,
      "outputs": [
        {
          "output_type": "stream",
          "text": [
            "These are the layer weights: [array([[nan]], dtype=float32), array([nan], dtype=float32)]\n"
          ],
          "name": "stdout"
        }
      ]
    }
  ]
}