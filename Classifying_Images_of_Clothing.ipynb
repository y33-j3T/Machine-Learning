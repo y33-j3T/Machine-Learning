{
  "nbformat": 4,
  "nbformat_minor": 0,
  "metadata": {
    "colab": {
      "name": "Classifying Images of Clothing",
      "version": "0.3.2",
      "provenance": [],
      "collapsed_sections": [],
      "include_colab_link": true
    },
    "kernelspec": {
      "name": "python3",
      "display_name": "Python 3"
    }
  },
  "cells": [
    {
      "cell_type": "markdown",
      "metadata": {
        "id": "view-in-github",
        "colab_type": "text"
      },
      "source": [
        "<a href=\"https://colab.research.google.com/github/y33-j3T/TensorFlow/blob/master/Classifying_Images_of_Clothing.ipynb\" target=\"_parent\"><img src=\"https://colab.research.google.com/assets/colab-badge.svg\" alt=\"Open In Colab\"/></a>"
      ]
    },
    {
      "metadata": {
        "id": "WW78i_iQoCYi",
        "colab_type": "text"
      },
      "cell_type": "markdown",
      "source": [
        "# Classifying Images of Clothing"
      ]
    },
    {
      "metadata": {
        "id": "X-Kujr88of7l",
        "colab_type": "text"
      },
      "cell_type": "markdown",
      "source": [
        "## Install and import dependencies"
      ]
    },
    {
      "metadata": {
        "id": "4eMT2dZDpXWT",
        "colab_type": "text"
      },
      "cell_type": "markdown",
      "source": [
        "Install [TensorFlow Datasets](https://www.tensorflow.org/datasets/) - API that simplifies downloading and accessing datasets"
      ]
    },
    {
      "metadata": {
        "colab_type": "code",
        "outputId": "e8c99c2c-7c30-4a3b-b6b1-91e3b2399b55",
        "id": "nL3RhQAXtWFS",
        "collapsed": true,
        "colab": {
          "base_uri": "https://localhost:8080/",
          "height": 302
        }
      },
      "cell_type": "code",
      "source": [
        "!pip install -U tensorflow_datasets"
      ],
      "execution_count": 37,
      "outputs": [
        {
          "output_type": "stream",
          "text": [
            "Requirement already up-to-date: tensorflow_datasets in /usr/local/lib/python3.6/dist-packages (1.0.1)\n",
            "Requirement already satisfied, skipping upgrade: tensorflow-metadata in /usr/local/lib/python3.6/dist-packages (from tensorflow_datasets) (0.13.0)\n",
            "Requirement already satisfied, skipping upgrade: six in /usr/local/lib/python3.6/dist-packages (from tensorflow_datasets) (1.11.0)\n",
            "Requirement already satisfied, skipping upgrade: promise in /usr/local/lib/python3.6/dist-packages (from tensorflow_datasets) (2.2.1)\n",
            "Requirement already satisfied, skipping upgrade: future in /usr/local/lib/python3.6/dist-packages (from tensorflow_datasets) (0.16.0)\n",
            "Requirement already satisfied, skipping upgrade: termcolor in /usr/local/lib/python3.6/dist-packages (from tensorflow_datasets) (1.1.0)\n",
            "Requirement already satisfied, skipping upgrade: wrapt in /usr/local/lib/python3.6/dist-packages (from tensorflow_datasets) (1.10.11)\n",
            "Requirement already satisfied, skipping upgrade: absl-py in /usr/local/lib/python3.6/dist-packages (from tensorflow_datasets) (0.7.1)\n",
            "Requirement already satisfied, skipping upgrade: requests in /usr/local/lib/python3.6/dist-packages (from tensorflow_datasets) (2.18.4)\n",
            "Requirement already satisfied, skipping upgrade: protobuf>=3.6.1 in /usr/local/lib/python3.6/dist-packages (from tensorflow_datasets) (3.7.0)\n",
            "Requirement already satisfied, skipping upgrade: tqdm in /usr/local/lib/python3.6/dist-packages (from tensorflow_datasets) (4.28.1)\n",
            "Requirement already satisfied, skipping upgrade: googleapis-common-protos in /usr/local/lib/python3.6/dist-packages (from tensorflow-metadata->tensorflow_datasets) (1.5.8)\n",
            "Requirement already satisfied, skipping upgrade: idna<2.7,>=2.5 in /usr/local/lib/python3.6/dist-packages (from requests->tensorflow_datasets) (2.6)\n",
            "Requirement already satisfied, skipping upgrade: certifi>=2017.4.17 in /usr/local/lib/python3.6/dist-packages (from requests->tensorflow_datasets) (2019.3.9)\n",
            "Requirement already satisfied, skipping upgrade: urllib3<1.23,>=1.21.1 in /usr/local/lib/python3.6/dist-packages (from requests->tensorflow_datasets) (1.22)\n",
            "Requirement already satisfied, skipping upgrade: chardet<3.1.0,>=3.0.2 in /usr/local/lib/python3.6/dist-packages (from requests->tensorflow_datasets) (3.0.4)\n",
            "Requirement already satisfied, skipping upgrade: setuptools in /usr/local/lib/python3.6/dist-packages (from protobuf>=3.6.1->tensorflow_datasets) (40.8.0)\n"
          ],
          "name": "stdout"
        }
      ]
    },
    {
      "metadata": {
        "id": "A5jLGfqIooOB",
        "colab_type": "code",
        "outputId": "2b3d687e-16a9-4854-8773-db7415aac499",
        "colab": {
          "base_uri": "https://localhost:8080/",
          "height": 34
        }
      },
      "cell_type": "code",
      "source": [
        "from __future__ import absolute_import, division, print_function\n",
        "\n",
        "# Import TensorFlow and TensorFlow Datasets\n",
        "import tensorflow as tf\n",
        "import tensorflow_datasets as tfds\n",
        "tf.logging.set_verbosity(tf.logging.ERROR)\n",
        "\n",
        "# Helper libraries\n",
        "import math\n",
        "import numpy as np\n",
        "import matplotlib.pyplot as plt\n",
        "\n",
        "# Improve progress bar display\n",
        "import tqdm\n",
        "import tqdm.auto\n",
        "tqdm.tqdm = tqdm.auto.tqdm\n",
        "\n",
        "print(tf.__version__)\n",
        "tf.enable_eager_execution()"
      ],
      "execution_count": 38,
      "outputs": [
        {
          "output_type": "stream",
          "text": [
            "1.13.1\n"
          ],
          "name": "stdout"
        }
      ]
    },
    {
      "metadata": {
        "id": "pex9U3LKuE24",
        "colab_type": "text"
      },
      "cell_type": "markdown",
      "source": [
        "## Import Fashion MNIST dataset"
      ]
    },
    {
      "metadata": {
        "id": "JBUJWvHgnORr",
        "colab_type": "text"
      },
      "cell_type": "markdown",
      "source": [
        " ### Overview of [Fashion MNIST](https://github.com/zalandoresearch/fashion-mnist) dataset\n",
        " - 70, 000 grayscale images\n",
        " - 10 categories\n",
        " - Individual articles of clothing at low resolution (28 $\\times$ 28 pixels)\n",
        " \n",
        " <table>\n",
        "  <tr><td>\n",
        "    <img src=\"https://tensorflow.org/images/fashion-mnist-sprite.png\" alt=\"Fashion MNIST sprite\" width=\"600\">\n",
        "    <td></tr>\n",
        "  </table>\n",
        "  \n",
        "   <p align=\"center\">\n",
        "    <b>Figure 1.</b> <a href=\"https://github.com/zalandoresearch/fashion-mnist\"> Fashion-MNIST samples</a>\n",
        "  </p>\n",
        "  "
      ]
    },
    {
      "metadata": {
        "id": "HFdibTzFrgSh",
        "colab_type": "text"
      },
      "cell_type": "markdown",
      "source": [
        "<table>\n",
        "  <tr>\n",
        "    <th>Label</th>\n",
        "    <th>Class</th> \n",
        "  </tr>\n",
        "  <tr>\n",
        "    <td>0</td>\n",
        "    <td>T-shirt/top</td> \n",
        "  </tr>\n",
        "  <tr>\n",
        "    <td>1</td>\n",
        "    <td>Trouser</td> \n",
        "  </tr>\n",
        "    <tr>\n",
        "    <td>2</td>\n",
        "    <td>Pullover</td> \n",
        "  </tr>\n",
        "    <tr>\n",
        "    <td>3</td>\n",
        "    <td>Dress</td> \n",
        "  </tr>\n",
        "    <tr>\n",
        "    <td>4</td>\n",
        "    <td>Coat</td> \n",
        "  </tr>\n",
        "    <tr>\n",
        "    <td>5</td>\n",
        "    <td>Sandal</td> \n",
        "  </tr>\n",
        "    <tr>\n",
        "    <td>6</td>\n",
        "    <td>Shirt</td> \n",
        "  </tr>\n",
        "    <tr>\n",
        "    <td>7</td>\n",
        "    <td>Sneaker</td> \n",
        "  </tr>\n",
        "    <tr>\n",
        "    <td>8</td>\n",
        "    <td>Bag</td> \n",
        "  </tr>\n",
        "    <tr>\n",
        "    <td>9</td>\n",
        "    <td>Ankle boot</td> \n",
        "  </tr>\n",
        "</table>\n",
        "\n",
        "<p align=\"center\">\n",
        "  <b>Table 1.</b>\n",
        "  <a> 10 categorical classes </a>\n",
        "</p>"
      ]
    },
    {
      "metadata": {
        "id": "mr8ETUMqVZNw",
        "colab_type": "code",
        "colab": {}
      },
      "cell_type": "code",
      "source": [
        "#Store `class_names` for later use\n",
        "class_names = ['T-shirt/top', 'Trouser', 'Pullover', 'Dress', 'Coat', 'Sandal', \n",
        "               'Shirt', 'Sneaker', 'Bag', 'Ankle boot']"
      ],
      "execution_count": 0,
      "outputs": []
    },
    {
      "metadata": {
        "id": "Nq4YJjj1qHvp",
        "colab_type": "text"
      },
      "cell_type": "markdown",
      "source": [
        "### Load data\n",
        "- Dataset - `dataset`\n",
        "- Metadata - `metadata`\n",
        "- Train set - `train_dataset`\n",
        "- Test set - `test_dataset`"
      ]
    },
    {
      "metadata": {
        "id": "94kFDY-YuQLj",
        "colab_type": "code",
        "collapsed": true,
        "colab": {}
      },
      "cell_type": "code",
      "source": [
        "dataset, metadata = tfds.load('fashion_mnist', as_supervised=True, with_info=True)\n",
        "train_dataset, test_dataset = dataset['train'], dataset['test']"
      ],
      "execution_count": 0,
      "outputs": []
    },
    {
      "metadata": {
        "id": "MJqRR5tHWsuV",
        "colab_type": "text"
      },
      "cell_type": "markdown",
      "source": [
        "### Explore the data"
      ]
    },
    {
      "metadata": {
        "id": "8iDJ5ejGXCLI",
        "colab_type": "code",
        "outputId": "d62069d0-dd91-4904-e45e-ce4e88b58d08",
        "colab": {
          "base_uri": "https://localhost:8080/",
          "height": 50
        }
      },
      "cell_type": "code",
      "source": [
        "num_train_examples = metadata.splits['train'].num_examples\n",
        "num_test_examples = metadata.splits['test'].num_examples\n",
        "print(\"Number of train examples: {}\".format(num_train_examples))\n",
        "print(\"Number of test examples: {}\".format(num_test_examples))"
      ],
      "execution_count": 41,
      "outputs": [
        {
          "output_type": "stream",
          "text": [
            "Number of train examples: 60000\n",
            "Number of test examples: 10000\n"
          ],
          "name": "stdout"
        }
      ]
    },
    {
      "metadata": {
        "id": "bJ8mrWarXdtO",
        "colab_type": "text"
      },
      "cell_type": "markdown",
      "source": [
        "## Preprocess the data"
      ]
    },
    {
      "metadata": {
        "id": "xFD6MlPLXm-N",
        "colab_type": "code",
        "colab": {}
      },
      "cell_type": "code",
      "source": [
        "def normalize(images, labels):\n",
        "  images = tf.cast(images, tf.float32)\n",
        "  images /= 255\n",
        "  return images, labels\n",
        "\n",
        "train_dataset = train_dataset.map(normalize)\n",
        "test_dataset = test_dataset.map(normalize)"
      ],
      "execution_count": 0,
      "outputs": []
    },
    {
      "metadata": {
        "id": "09Aojnm0Yb77",
        "colab_type": "text"
      },
      "cell_type": "markdown",
      "source": [
        "### Explore the processed data"
      ]
    },
    {
      "metadata": {
        "id": "EX7RBToAt0nh",
        "colab_type": "text"
      },
      "cell_type": "markdown",
      "source": [
        "Display a single image"
      ]
    },
    {
      "metadata": {
        "id": "sQWjZXcHYe_F",
        "colab_type": "code",
        "outputId": "adf75201-cd7e-43cc-94d3-bf2cdcfb921c",
        "colab": {
          "base_uri": "https://localhost:8080/",
          "height": 351
        }
      },
      "cell_type": "code",
      "source": [
        "# Take a single image, remove the color dimension by reshaping\n",
        "for image, label in test_dataset.take(1):\n",
        "  break\n",
        "image = image.numpy().reshape((28,28))\n",
        "\n",
        "# Plot the image - a piece of fashion clothing\n",
        "plt.figure()\n",
        "plt.imshow(image, cmap=plt.cm.binary)\n",
        "plt.colorbar()\n",
        "plt.grid(False)\n",
        "plt.show()"
      ],
      "execution_count": 43,
      "outputs": [
        {
          "output_type": "display_data",
          "data": {
            "image/png": "[encoded data removed]",
            "text/plain": [
              "<Figure size 576x396 with 2 Axes>"
            ]
          },
          "metadata": {
            "tags": []
          }
        }
      ]
    },
    {
      "metadata": {
        "id": "R6s6qxupaNau",
        "colab_type": "text"
      },
      "cell_type": "markdown",
      "source": [
        "1. Display first 25 image from the *training set*\n",
        "2. Display class name below each image\n",
        "3. Verify data in correct format"
      ]
    },
    {
      "metadata": {
        "id": "0OxhiJgIbJei",
        "colab_type": "code",
        "outputId": "2e466276-764a-45a2-aaf1-37ad5331ba82",
        "colab": {
          "base_uri": "https://localhost:8080/",
          "height": 589
        }
      },
      "cell_type": "code",
      "source": [
        "plt.figure(figsize=(10,10))\n",
        "i=0\n",
        "for (image, label) in test_dataset.take(25):\n",
        "  image = image.numpy().reshape((28,28))\n",
        "  plt.subplot(5,5,i+1)\n",
        "  plt.xticks([])\n",
        "  plt.yticks([])\n",
        "  plt.grid(False)\n",
        "  plt.imshow(image, cmap=plt.cm.binary)\n",
        "  plt.xlabel(class_names[label])\n",
        "  i += 1\n",
        "plt.show()"
      ],
      "execution_count": 44,
      "outputs": [
        {
          "output_type": "display_data",
          "data": {
            "image/png": "[encoded data removed]",
            "text/plain": [
              "<Figure size 720x720 with 25 Axes>"
            ]
          },
          "metadata": {
            "tags": []
          }
        }
      ]
    },
    {
      "metadata": {
        "id": "e3NlLV_0uHAh",
        "colab_type": "text"
      },
      "cell_type": "markdown",
      "source": [
        "## Build the model\n",
        "1. Configure layers of model\n",
        "2. Compile the model"
      ]
    },
    {
      "metadata": {
        "id": "TgO-3-wcuQjp",
        "colab_type": "text"
      },
      "cell_type": "markdown",
      "source": [
        "### Setup the layers"
      ]
    },
    {
      "metadata": {
        "id": "TxH-kJbxxx1f",
        "colab_type": "code",
        "colab": {}
      },
      "cell_type": "code",
      "source": [
        "model = tf.keras.Sequential([\n",
        "    tf.keras.layers.Flatten(input_shape=(28, 28, 1)),\n",
        "    tf.keras.layers.Dense(128, activation=tf.nn.relu),\n",
        "    tf.keras.layers.Dense(10, activation=tf.nn.softmax)\n",
        "])"
      ],
      "execution_count": 0,
      "outputs": []
    },
    {
      "metadata": {
        "id": "3UmVY2uXyfca",
        "colab_type": "text"
      },
      "cell_type": "markdown",
      "source": [
        "This network has 3 layers:\n",
        "- **input layer** `tf.keras.layers.Flatten` -- Transforms images of *2d-array* 28 $\\times$ 28 pixels to *1d-array* of 784 pixels. This layer has **no parameters** to learn, only **reformats data**.\n",
        "\n",
        "- **hidden layer** `tf.keras.layers.Dense -- A densely connected layer of **128 neurons**. Each neuron(or node) takes **input from all 784 nodes** in the previous layer, weighting that input according to hidden parameters which will be learned during training, and **outputs a single value** to the next layer.\n",
        "\n",
        "- **output layer** `tf.keras.layers.Dense` -- A **10 node** *softmax* layer, with each node representing a class of clothing. Each node takes **input from all 128 nodes** in the previous layer, weights the input according to learned parameters, then **outputs a value in the range [0, 1]**, representing the probability that the image belongs to that class."
      ]
    },
    {
      "metadata": {
        "id": "TynfSBc6SKSS",
        "colab_type": "text"
      },
      "cell_type": "markdown",
      "source": [
        "### Compile the model\n",
        "- Loss function -- An algorithm for measuring how far the model's outputs are from the desired output.\n",
        "\n",
        "- Optimizer -- An algorithm for adjusting the inner parameters of the model to minimize loss.\n",
        "\n",
        "- Metrics -- Used to monitor training and testing steps. The following example uses *accuracy*, the fraction of the images that are correctly classified."
      ]
    },
    {
      "metadata": {
        "id": "4HE6bgxAS_0H",
        "colab_type": "code",
        "colab": {}
      },
      "cell_type": "code",
      "source": [
        "model.compile(optimizer='adam', \n",
        "              loss='sparse_categorical_crossentropy',\n",
        "              metrics=['accuracy'])"
      ],
      "execution_count": 0,
      "outputs": []
    },
    {
      "metadata": {
        "id": "S3Bo0yYSTT-e",
        "colab_type": "text"
      },
      "cell_type": "markdown",
      "source": [
        "## Train the model\n",
        "\n",
        "Define iteration behavior for `train_dataset`:\n",
        "1.  Repeat forever by specifying `train_dataset.repeat()` (the `epochs` parameter limits how long we perform training)\n",
        "\n",
        "2. `train_dataset.shuffle(60000)` randomizes the order so model cannot learn anything from the order of examples.\n",
        "\n",
        "3. `train_dataset.batch(32)` tells `model.fit` to use batches of 32 images and labels when updating model variables.\n",
        "\n",
        "Training performed by calling `model.fit`:\n",
        "1. Feed the training data to the model using `train_dataset`.\n",
        "2. Model learns to associate images and labels.\n",
        "3. `epochs=5` limits training to 5 full iterations of the training dataset, so a total of 5 * 60000 = 300000 examples."
      ]
    },
    {
      "metadata": {
        "id": "FJzx4dOpV75W",
        "colab_type": "code",
        "colab": {}
      },
      "cell_type": "code",
      "source": [
        "BATCH_SIZE = 32\n",
        "train_dataset = train_dataset.repeat().shuffle(num_train_examples).batch(BATCH_SIZE)\n",
        "test_dataset = test_dataset.batch(BATCH_SIZE)"
      ],
      "execution_count": 0,
      "outputs": []
    },
    {
      "metadata": {
        "id": "shspPaepWWww",
        "colab_type": "code",
        "colab": {
          "base_uri": "https://localhost:8080/",
          "height": 202
        },
        "outputId": "6afc0cfb-a2c9-4c86-a0f7-719b9c7afeed"
      },
      "cell_type": "code",
      "source": [
        "model.fit(train_dataset, epochs=5, steps_per_epoch=math.ceil(num_train_examples/BATCH_SIZE))"
      ],
      "execution_count": 48,
      "outputs": [
        {
          "output_type": "stream",
          "text": [
            "Epoch 1/5\n",
            "1875/1875 [==============================] - 32s 17ms/step - loss: 0.4929 - acc: 0.8261\n",
            "Epoch 2/5\n",
            "1875/1875 [==============================] - 23s 12ms/step - loss: 0.3711 - acc: 0.8661\n",
            "Epoch 3/5\n",
            "1875/1875 [==============================] - 23s 12ms/step - loss: 0.3373 - acc: 0.8769\n",
            "Epoch 4/5\n",
            "1875/1875 [==============================] - 23s 12ms/step - loss: 0.3036 - acc: 0.8877\n",
            "Epoch 5/5\n",
            "1875/1875 [==============================] - 23s 12ms/step - loss: 0.2926 - acc: 0.8921\n"
          ],
          "name": "stdout"
        },
        {
          "output_type": "execute_result",
          "data": {
            "text/plain": [
              "<tensorflow.python.keras.callbacks.History at 0x7f0389d3aeb8>"
            ]
          },
          "metadata": {
            "tags": []
          },
          "execution_count": 48
        }
      ]
    },
    {
      "metadata": {
        "id": "7sAISotMWvKG",
        "colab_type": "text"
      },
      "cell_type": "markdown",
      "source": [
        "## Evaluate accuracy"
      ]
    },
    {
      "metadata": {
        "id": "GIMSM7kJXfro",
        "colab_type": "code",
        "colab": {
          "base_uri": "https://localhost:8080/",
          "height": 50
        },
        "outputId": "877cdfec-3904-4e6a-9999-151d85ee7cc4"
      },
      "cell_type": "code",
      "source": [
        "test_loss, test_accuracy = model.evaluate(test_dataset, steps=math.ceil(num_test_examples/32))\n",
        "print(\"Accuracy on test dataset: \", test_accuracy)"
      ],
      "execution_count": 49,
      "outputs": [
        {
          "output_type": "stream",
          "text": [
            "313/313 [==============================] - 3s 8ms/step - loss: 0.3534 - acc: 0.8729\n",
            "Accuracy on test dataset:  0.8729\n"
          ],
          "name": "stdout"
        }
      ]
    },
    {
      "metadata": {
        "id": "seehJ-K4X49K",
        "colab_type": "text"
      },
      "cell_type": "markdown",
      "source": [
        "## Make predictions and explore"
      ]
    },
    {
      "metadata": {
        "id": "Ku9VJLs-YHnf",
        "colab_type": "code",
        "colab": {}
      },
      "cell_type": "code",
      "source": [
        "for test_images, test_labels in test_dataset.take(1):\n",
        "  test_images = test_images.numpy()\n",
        "  test_labels = test_labels.numpy()\n",
        "  predictions = model.predict(test_images)"
      ],
      "execution_count": 0,
      "outputs": []
    },
    {
      "metadata": {
        "id": "hzEbl_WFYXlT",
        "colab_type": "code",
        "colab": {
          "base_uri": "https://localhost:8080/",
          "height": 34
        },
        "outputId": "cffceadf-6aa1-405e-f3aa-1138f8f0102d"
      },
      "cell_type": "code",
      "source": [
        "predictions.shape"
      ],
      "execution_count": 51,
      "outputs": [
        {
          "output_type": "execute_result",
          "data": {
            "text/plain": [
              "(32, 10)"
            ]
          },
          "metadata": {
            "tags": []
          },
          "execution_count": 51
        }
      ]
    },
    {
      "metadata": {
        "id": "mhML_IwoYcQJ",
        "colab_type": "text"
      },
      "cell_type": "markdown",
      "source": [
        "The model has predicted the label for each image in the testing set. "
      ]
    },
    {
      "metadata": {
        "id": "gRlDTdwBbMxx",
        "colab_type": "code",
        "colab": {
          "base_uri": "https://localhost:8080/",
          "height": 67
        },
        "outputId": "d2e0d35b-2630-4c54-e614-06fab8b56614"
      },
      "cell_type": "code",
      "source": [
        "# First prediction\n",
        "predictions[0]"
      ],
      "execution_count": 52,
      "outputs": [
        {
          "output_type": "execute_result",
          "data": {
            "text/plain": [
              "array([6.4593150e-05, 3.7474848e-07, 9.8140482e-03, 5.9929258e-05,\n",
              "       5.8053423e-02, 1.0318063e-07, 9.3200254e-01, 8.7957863e-10,\n",
              "       4.9007590e-06, 1.2805168e-09], dtype=float32)"
            ]
          },
          "metadata": {
            "tags": []
          },
          "execution_count": 52
        }
      ]
    },
    {
      "metadata": {
        "id": "8jxQezMNbPbJ",
        "colab_type": "text"
      },
      "cell_type": "markdown",
      "source": [
        "A prediction is an array of 10 numbers. They describe the \"confidence\" of the model that the image corresponds to the different 10 categories of clothing. "
      ]
    },
    {
      "metadata": {
        "id": "CWNiemKeblnP",
        "colab_type": "code",
        "colab": {
          "base_uri": "https://localhost:8080/",
          "height": 34
        },
        "outputId": "e30f51f6-74c9-4cd9-a1db-20ba53be28c0"
      },
      "cell_type": "code",
      "source": [
        "# Label with higest confidence value\n",
        "np.argmax(predictions[0])"
      ],
      "execution_count": 53,
      "outputs": [
        {
          "output_type": "execute_result",
          "data": {
            "text/plain": [
              "6"
            ]
          },
          "metadata": {
            "tags": []
          },
          "execution_count": 53
        }
      ]
    },
    {
      "metadata": {
        "id": "Ch1ImnspbrTm",
        "colab_type": "text"
      },
      "cell_type": "markdown",
      "source": [
        "So the model is most confident that this image is a shirt, or `class_names[6]`. Let's check the test label to see if this is correct."
      ]
    },
    {
      "metadata": {
        "id": "SgAiHJ-Wb4_A",
        "colab_type": "code",
        "colab": {
          "base_uri": "https://localhost:8080/",
          "height": 34
        },
        "outputId": "7f2fbbb7-b96a-493d-dfb3-af4e177e1742"
      },
      "cell_type": "code",
      "source": [
        "test_labels[0]"
      ],
      "execution_count": 54,
      "outputs": [
        {
          "output_type": "execute_result",
          "data": {
            "text/plain": [
              "6"
            ]
          },
          "metadata": {
            "tags": []
          },
          "execution_count": 54
        }
      ]
    },
    {
      "metadata": {
        "id": "2J-9Jv8bb7p8",
        "colab_type": "text"
      },
      "cell_type": "markdown",
      "source": [
        "We can graph this to look at the full set of 10 channels"
      ]
    },
    {
      "metadata": {
        "id": "8oNlUUQGcG3C",
        "colab_type": "code",
        "colab": {}
      },
      "cell_type": "code",
      "source": [
        "def plot_image(i, predictions_array, true_labels, images):\n",
        "  predictions_array, true_label, img = predictions_array[i], true_labels[i], images[i]\n",
        "\n",
        "  predicted_label = np.argmax(predictions_array)\n",
        "  if predicted_label == true_label:\n",
        "    color = 'blue'\n",
        "  else:\n",
        "    color = 'red'\n",
        "\n",
        "  plt.imshow(img[...,0], cmap=plt.cm.binary) \n",
        "  plt.grid(False)\n",
        "  plt.xticks([])\n",
        "  plt.yticks([])\n",
        "  plt.xlabel(\"{} {:2.0f}% ({})\".format(class_names[predicted_label], \n",
        "                                       100*np.max(predictions_array), \n",
        "                                       class_names[true_label]), \n",
        "             color=color)\n",
        "  \n",
        "def plot_value_array(i, predictions_array, true_label):\n",
        "  predictions_array, true_label = predictions_array[i], true_label[i]\n",
        "  \n",
        "  plt.grid(False)\n",
        "  plt.xticks([])\n",
        "  plt.yticks([])\n",
        "  thisplot = plt.bar(range(10), predictions_array, color=\"#777777\")\n",
        "  plt.ylim([0, 1])\n",
        "  predicted_label = np.argmax(predictions_array)\n",
        "  \n",
        "  thisplot[predicted_label].set_color('red')\n",
        "  thisplot[true_label].set_color('blue')"
      ],
      "execution_count": 0,
      "outputs": []
    },
    {
      "metadata": {
        "id": "aXxoqfogitdD",
        "colab_type": "text"
      },
      "cell_type": "markdown",
      "source": [
        "Let's look at 0th image, predictions, and prediction array."
      ]
    },
    {
      "metadata": {
        "id": "-kNFeflIi09h",
        "colab_type": "code",
        "colab": {
          "base_uri": "https://localhost:8080/",
          "height": 203
        },
        "outputId": "940858e4-25ba-4043-bc44-0b0cfc8cee56"
      },
      "cell_type": "code",
      "source": [
        "i = 0\n",
        "plt.figure(figsize=(6,3))\n",
        "\n",
        "plt.subplot(1,2,1)\n",
        "plot_image(i, predictions, test_labels, test_images)\n",
        "\n",
        "plt.subplot(1,2,2)\n",
        "plot_value_array(i, predictions, test_labels)"
      ],
      "execution_count": 56,
      "outputs": [
        {
          "output_type": "display_data",
          "data": {
            "image/png": "[encoded data removed]",
            "text/plain": [
              "<Figure size 432x216 with 2 Axes>"
            ]
          },
          "metadata": {
            "tags": []
          }
        }
      ]
    },
    {
      "metadata": {
        "id": "AuqgobPKi-iQ",
        "colab_type": "text"
      },
      "cell_type": "markdown",
      "source": [
        "Let's plot several images with their predictions."
      ]
    },
    {
      "metadata": {
        "id": "i3HIhNbAu9hb",
        "colab_type": "code",
        "colab": {
          "base_uri": "https://localhost:8080/",
          "height": 589
        },
        "outputId": "ea9e5de8-40d7-4d32-aa7c-0125b3f55ac9"
      },
      "cell_type": "code",
      "source": [
        "# Plot the first X test images, their predicted label, and the true label\n",
        "# Color the correct predictions in blue, incorrect predictions in red\n",
        "num_rows = 5\n",
        "num_cols = 3\n",
        "num_images = num_rows*num_cols\n",
        "plt.figure(figsize=(2*2*num_cols, 2*num_rows))\n",
        "for i in range(num_images):\n",
        "  plt.subplot(num_rows, 2*num_cols, 2*i+1)\n",
        "  plot_image(i, predictions, test_labels, test_images)\n",
        "  \n",
        "  plt.subplot(num_rows, 2*num_cols, 2*i+2)\n",
        "  plot_value_array(i, predictions, test_labels)"
      ],
      "execution_count": 57,
      "outputs": [
        {
          "output_type": "display_data",
          "data": {
            "image/png": "[encoded data removed]",
            "text/plain": [
              "<Figure size 864x720 with 30 Axes>"
            ]
          },
          "metadata": {
            "tags": []
          }
        }
      ]
    },
    {
      "metadata": {
        "id": "tmBSaasevkrg",
        "colab_type": "text"
      },
      "cell_type": "markdown",
      "source": [
        "Use the model to make a prediction about a single image."
      ]
    },
    {
      "metadata": {
        "id": "vcGWmk3nvrgb",
        "colab_type": "code",
        "colab": {
          "base_uri": "https://localhost:8080/",
          "height": 34
        },
        "outputId": "a2682aba-ebe2-405a-90a8-de19fb3e653c"
      },
      "cell_type": "code",
      "source": [
        "# Grab an image from the test dataset\n",
        "img = test_images[0]\n",
        "print(img.shape)"
      ],
      "execution_count": 58,
      "outputs": [
        {
          "output_type": "stream",
          "text": [
            "(28, 28, 1)\n"
          ],
          "name": "stdout"
        }
      ]
    },
    {
      "metadata": {
        "id": "lDngXkzyvxZr",
        "colab_type": "text"
      },
      "cell_type": "markdown",
      "source": [
        "  `tf.keras` models are optimized to make predictions on a *batch*, or collection, of examples at once.\n",
        "  So even though we're using a single image, we need to add it to a list:"
      ]
    },
    {
      "metadata": {
        "id": "HFx2rbCSwC_l",
        "colab_type": "code",
        "colab": {
          "base_uri": "https://localhost:8080/",
          "height": 34
        },
        "outputId": "1002a570-3727-4da4-9d67-3d6c46b4761f"
      },
      "cell_type": "code",
      "source": [
        "# Add the image to a batch where it's the only member.\n",
        "img = np.array([img])\n",
        "print(img.shape)"
      ],
      "execution_count": 59,
      "outputs": [
        {
          "output_type": "stream",
          "text": [
            "(1, 28, 28, 1)\n"
          ],
          "name": "stdout"
        }
      ]
    },
    {
      "metadata": {
        "id": "6zzaGinWwHsd",
        "colab_type": "text"
      },
      "cell_type": "markdown",
      "source": [
        "Now predict the image:"
      ]
    },
    {
      "metadata": {
        "id": "2Kys16r8wKBy",
        "colab_type": "code",
        "colab": {
          "base_uri": "https://localhost:8080/",
          "height": 50
        },
        "outputId": "2222c7a7-eba8-4044-df43-1344f451e04a"
      },
      "cell_type": "code",
      "source": [
        "predictions_single = model.predict(img)\n",
        "print(predictions_single)"
      ],
      "execution_count": 61,
      "outputs": [
        {
          "output_type": "stream",
          "text": [
            "[[6.4593034e-05 3.7474851e-07 9.8140491e-03 5.9929378e-05 5.8053371e-02\n",
            "  1.0318024e-07 9.3200260e-01 8.7957869e-10 4.9007594e-06 1.2805168e-09]]\n"
          ],
          "name": "stdout"
        }
      ]
    },
    {
      "metadata": {
        "id": "EsAqTN3BwMYf",
        "colab_type": "code",
        "colab": {
          "base_uri": "https://localhost:8080/",
          "height": 377
        },
        "outputId": "89cec721-4904-4366-e0d9-d355fb5cf71c"
      },
      "cell_type": "code",
      "source": [
        "plot_value_array(0, predictions_single, test_labels)\n",
        "_ = plt.xticks(range(10), class_names, rotation=45)"
      ],
      "execution_count": 62,
      "outputs": [
        {
          "output_type": "display_data",
          "data": {
            "image/png": "[encoded data removed]",
            "text/plain": [
              "<Figure size 576x396 with 1 Axes>"
            ]
          },
          "metadata": {
            "tags": []
          }
        }
      ]
    },
    {
      "metadata": {
        "id": "-jyQFD8bwa3E",
        "colab_type": "text"
      },
      "cell_type": "markdown",
      "source": [
        "`model.predict` returns a list of lists, one for each image in the batch of data. \n",
        "Grab the predictions for our (only) image in the batch:"
      ]
    },
    {
      "metadata": {
        "id": "qi1KkDUWwr_m",
        "colab_type": "code",
        "colab": {
          "base_uri": "https://localhost:8080/",
          "height": 34
        },
        "outputId": "7415b204-2a85-4f4c-e410-303a2fcc5b28"
      },
      "cell_type": "code",
      "source": [
        "np.argmax(predictions_single[0])"
      ],
      "execution_count": 64,
      "outputs": [
        {
          "output_type": "execute_result",
          "data": {
            "text/plain": [
              "6"
            ]
          },
          "metadata": {
            "tags": []
          },
          "execution_count": 64
        }
      ]
    },
    {
      "metadata": {
        "id": "iY1mJyyWwvVE",
        "colab_type": "text"
      },
      "cell_type": "markdown",
      "source": [
        "And, as before, the model predicts a label of 6 (shirt)."
      ]
    },
    {
      "metadata": {
        "id": "w3OiLUDQw2jX",
        "colab_type": "text"
      },
      "cell_type": "markdown",
      "source": [
        "# Exercises\n",
        "\n",
        "Experiment with different models and see how the accuracy results differ. In particular change the following parameters:\n",
        "*   Set training epochs set to 1\n",
        "*   Number of neurons in the Dense layer following the Flatten one. For example, go really low (e.g. 10) in ranges up to 512 and see how accuracy changes\n",
        "*   Add additional Dense layers between the Flatten and the final Dense(10,  activation=tf.nn.softmax), experiment with different units in these layers\n",
        "*   Don't normalize the pixel values, and see the effect that has\n",
        "\n",
        "\n",
        "Remember to enable GPU to make everything run faster (Runtime -> Change runtime type -> Hardware accelerator -> GPU).\n",
        "Also, if you run into trouble, simply reset the entire environment and start from the beginning:\n",
        "*   Edit -> Clear all outputs\n",
        "*   Runtime -> Reset all runtimes"
      ]
    }
  ]
}